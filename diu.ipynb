{
 "cells": [
  {
   "cell_type": "code",
   "execution_count": 46,
   "id": "fa47a96f",
   "metadata": {},
   "outputs": [],
   "source": [
    "from selenium import webdriver\n",
    "\n",
    "\n",
    "driver = webdriver.Chrome()\n",
    "\n",
    "driver.get(\"https://outlook.office365.com/mail/sentitems/id/AAQkADE4NjBhN2VjLWIyOGQtNDVmOC1iOTc4LTBlYjNiM2ZjYzdlMAAQACDFlLfJqGpFoEQ9yxMaFNs%3D\")"
   ]
  },
  {
   "cell_type": "code",
   "execution_count": 47,
   "id": "a5285e9c",
   "metadata": {},
   "outputs": [],
   "source": [
    "from selenium.webdriver.common.by import By"
   ]
  },
  {
   "cell_type": "code",
   "execution_count": 48,
   "id": "7e52ea6d",
   "metadata": {},
   "outputs": [],
   "source": [
    "content=\"Dear FULL-TIME TA,\\nMay I know will you be available for an Office Hour? Since the holiday will start from tmr and there will be no time left to ask questions before submitting lab6.\\nI came to your OH because the waiting list will be shorter than others and it was only 2 students including me, I do expect a warning If it takes this long for the previous student, I could have gone to another OH, and will not waste time and lose an opportunity to ask questions, and now I have been waiting for an hour but the OH ends without any warning.\\nIf you got discriminative opinions on me, please keep them to yourself, I DO NOT CARE,(if not then please ignore this line)  and I do hope that there will be no differential treatment in the teaching.\\nSince I have spent an hour waiting in your OH without getting the chance to ask nor a warning about the sudden closure of the meeting so, please reply to this email asap, if you cannot decide whether you want to give me office hours then please just reply a simple 'I will reply to your email later', or I will start to suspect you got some opinions on me so avoid giving me office hours or replying to my emails.\\nPS my computer keyboard sometimes goes wrong so maybe will send email multiple times. I didn't mean it.\\nRegards\""
   ]
  },
  {
   "cell_type": "code",
   "execution_count": null,
   "id": "778f39bb",
   "metadata": {},
   "outputs": [],
   "source": [
    "<span class=\"ms-Button-label ZZgmcHWreWwF7ZEnGXIN label-175\" id=\"id__6838\">New message</span>"
   ]
  },
  {
   "cell_type": "code",
   "execution_count": 57,
   "id": "26b625ef",
   "metadata": {},
   "outputs": [
    {
     "name": "stderr",
     "output_type": "stream",
     "text": [
      "<ipython-input-57-155561abac37>:1: DeprecationWarning: find_element_by_* commands are deprecated. Please use find_element() instead\n",
      "  driver.find_element_by_xpath(\"// span[contains(text(),\\\n"
     ]
    }
   ],
   "source": [
    "driver.find_element_by_xpath(\"// span[contains(text(),\\\n",
    "'New message')]\").click()"
   ]
  },
  {
   "cell_type": "code",
   "execution_count": null,
   "id": "6a54528c",
   "metadata": {},
   "outputs": [],
   "source": [
    "<span class=\"ms-Button-label label-387\" id=\"id__7333\">Send</span>"
   ]
  },
  {
   "cell_type": "code",
   "execution_count": null,
   "id": "6b2601ba",
   "metadata": {},
   "outputs": [],
   "source": [
    "<span class=\"ms-Button-label label-387\" id=\"id__7508\">Send</span>"
   ]
  },
  {
   "cell_type": "code",
   "execution_count": null,
   "id": "736c8dc2",
   "metadata": {},
   "outputs": [],
   "source": [
    "<input type=\"text\" id=\"TextField8020\" class=\"ms-TextField-field field-377\" maxlength=\"255\" autocomplete=\"off\" spellcheck=\"true\" placeholder=\"Add a subject\" aria-label=\"Add a subject\" aria-invalid=\"false\" value=\"\">"
   ]
  },
  {
   "cell_type": "code",
   "execution_count": null,
   "id": "ddbf47b7",
   "metadata": {},
   "outputs": [],
   "source": [
    "<input autocapitalize=\"off\" autocomplete=\"off\" aria-autocomplete=\"both\" aria-label=\"To\" class=\"ms-BasePicker-input pickerInput_cc9894a7\" aria-expanded=\"false\" aria-haspopup=\"true\" role=\"combobox\" data-lpignore=\"true\" value=\"\" tabindex=\"0\" style=\"font-family: inherit;\">"
   ]
  },
  {
   "cell_type": "code",
   "execution_count": null,
   "id": "26c037ca",
   "metadata": {},
   "outputs": [],
   "source": [
    "<input type=\"text\" id=\"TextField8642\" class=\"ms-TextField-field field-489\" maxlength=\"255\" autocomplete=\"off\" spellcheck=\"true\" placeholder=\"Add a subject\" aria-label=\"Add a subject\" aria-invalid=\"false\" value=\"\">"
   ]
  },
  {
   "cell_type": "code",
   "execution_count": 76,
   "id": "719672ee",
   "metadata": {},
   "outputs": [
    {
     "name": "stderr",
     "output_type": "stream",
     "text": [
      "<ipython-input-76-ee2fe8b4a6ac>:5: DeprecationWarning: find_element_by_* commands are deprecated. Please use find_element() instead\n",
      "  driver.find_element_by_xpath(\"// span[contains(text(),\\'New message')]\").click()\n",
      "<ipython-input-76-ee2fe8b4a6ac>:6: DeprecationWarning: find_element_by_* commands are deprecated. Please use find_element() instead\n",
      "  driver.find_element_by_css_selector('.ms-BasePicker-input.pickerInput_cc9894a7').send_keys(email2)\n",
      "<ipython-input-76-ee2fe8b4a6ac>:7: DeprecationWarning: find_element_by_* commands are deprecated. Please use find_element() instead\n",
      "  driver.find_element_by_css_selector('.dbf5IpsJrfoz_ON4IquS.UmiifhUhtkMCZXz_orZn.tEMfEuz5sUSZRe4fMlov.sBuglPqhiioJ8xqAEshn.FiU6TM0L6ioqM3Aih52j').send_keys(content)\n",
      "<ipython-input-76-ee2fe8b4a6ac>:8: DeprecationWarning: find_element_by_* commands are deprecated. Please use find_element() instead\n",
      "  driver.find_element_by_xpath(\"// input[@placeholder='Add a subject']\").send_keys('Office Hour')\n",
      "<ipython-input-76-ee2fe8b4a6ac>:10: DeprecationWarning: find_element_by_* commands are deprecated. Please use find_element() instead\n",
      "  driver.find_element_by_xpath(\"// span[contains(text(),\\'Send')]\").click()\n"
     ]
    }
   ],
   "source": [
    "while True:\n",
    "    try:\n",
    "            #new_email = driver.find_element_by_css_selector('.ms-Button-label.ZZgmcHWreWwF7ZEnGXIN.label-175')\n",
    "            #new_email.click()\n",
    "            driver.find_element_by_xpath(\"// span[contains(text(),\\'New message')]\").click()\n",
    "            driver.find_element_by_css_selector('.ms-BasePicker-input.pickerInput_cc9894a7').send_keys(email2)\n",
    "            driver.find_element_by_css_selector('.dbf5IpsJrfoz_ON4IquS.UmiifhUhtkMCZXz_orZn.tEMfEuz5sUSZRe4fMlov.sBuglPqhiioJ8xqAEshn.FiU6TM0L6ioqM3Aih52j').send_keys(content)\n",
    "            driver.find_element_by_xpath(\"// input[@placeholder='Add a subject']\").send_keys('Office Hour')\n",
    "            #driver.find_element_by_css_selector('.ms-Button-label.label-361').click()\n",
    "            driver.find_element_by_xpath(\"// span[contains(text(),\\'Send')]\").click()\n",
    "    except: \n",
    "        break"
   ]
  },
  {
   "cell_type": "code",
   "execution_count": 89,
   "id": "a83dec71",
   "metadata": {},
   "outputs": [],
   "source": [
    "import traceback"
   ]
  },
  {
   "cell_type": "code",
   "execution_count": 92,
   "id": "daeaf1c8",
   "metadata": {},
   "outputs": [],
   "source": [
    "def diu():\n",
    "    driver.refresh()\n",
    "    while True:\n",
    "        try:\n",
    "            #new_email = driver.find_element_by_css_selector('.ms-Button-label.ZZgmcHWreWwF7ZEnGXIN.label-175')\n",
    "            #new_email.click()\n",
    "            driver.find_element_by_xpath(\"// span[contains(text(),\\'New message')]\").click()\n",
    "            driver.find_element_by_css_selector('.ms-BasePicker-input.pickerInput_cc9894a7').send_keys(email2)\n",
    "            driver.find_element_by_css_selector('.dbf5IpsJrfoz_ON4IquS.UmiifhUhtkMCZXz_orZn.tEMfEuz5sUSZRe4fMlov.sBuglPqhiioJ8xqAEshn.FiU6TM0L6ioqM3Aih52j').send_keys(content)\n",
    "            driver.find_element_by_xpath(\"// input[@placeholder='Add a subject']\").send_keys('Office Hour')\n",
    "            #driver.find_element_by_css_selector('.ms-Button-label.label-361').click()\n",
    "            driver.find_element_by_xpath(\"// span[contains(text(),\\'Send')]\").click()\n",
    "        except Exception:\n",
    "            traceback.print_exc()\n",
    "    diu()"
   ]
  },
  {
   "cell_type": "code",
   "execution_count": 93,
   "id": "7e7f0721",
   "metadata": {},
   "outputs": [
    {
     "name": "stderr",
     "output_type": "stream",
     "text": [
      "<ipython-input-92-b2b870d310eb>:7: DeprecationWarning: find_element_by_* commands are deprecated. Please use find_element() instead\n",
      "  driver.find_element_by_xpath(\"// span[contains(text(),\\'New message')]\").click()\n",
      "Traceback (most recent call last):\n",
      "  File \"<ipython-input-92-b2b870d310eb>\", line 7, in diu\n",
      "    driver.find_element_by_xpath(\"// span[contains(text(),\\'New message')]\").click()\n",
      "  File \"C:\\Users\\Atlas\\anaconda3\\lib\\site-packages\\selenium\\webdriver\\remote\\webdriver.py\", line 514, in find_element_by_xpath\n",
      "    return self.find_element(by=By.XPATH, value=xpath)\n",
      "  File \"C:\\Users\\Atlas\\anaconda3\\lib\\site-packages\\selenium\\webdriver\\remote\\webdriver.py\", line 1238, in find_element\n",
      "    return self.execute(Command.FIND_ELEMENT, {\n",
      "  File \"C:\\Users\\Atlas\\anaconda3\\lib\\site-packages\\selenium\\webdriver\\remote\\webdriver.py\", line 418, in execute\n",
      "    self.error_handler.check_response(response)\n",
      "  File \"C:\\Users\\Atlas\\anaconda3\\lib\\site-packages\\selenium\\webdriver\\remote\\errorhandler.py\", line 242, in check_response\n",
      "    raise exception_class(message, screen, stacktrace, alert_text)  # type: ignore[call-arg]  # mypy is not smart enough here\n",
      "selenium.common.exceptions.UnexpectedAlertPresentException: Alert Text: {Alert text : \n",
      "Message: unexpected alert open: {Alert text : }\n",
      "  (Session info: chrome=100.0.4896.60)\n",
      "Stacktrace:\n",
      "Backtrace:\n",
      "\tOrdinal0 [0x00E49943+2595139]\n",
      "\tOrdinal0 [0x00DDC9F1+2148849]\n",
      "\tOrdinal0 [0x00CD4528+1066280]\n",
      "\tOrdinal0 [0x00D2B962+1423714]\n",
      "\tOrdinal0 [0x00D1B806+1357830]\n",
      "\tOrdinal0 [0x00CF6086+1204358]\n",
      "\tOrdinal0 [0x00CF6F96+1208214]\n",
      "\tGetHandleVerifier [0x00FEB232+1658114]\n",
      "\tGetHandleVerifier [0x010A312C+2411516]\n",
      "\tGetHandleVerifier [0x00EDF261+560433]\n",
      "\tGetHandleVerifier [0x00EDE366+556598]\n",
      "\tOrdinal0 [0x00DE286B+2173035]\n",
      "\tOrdinal0 [0x00DE75F8+2192888]\n",
      "\tOrdinal0 [0x00DE76E5+2193125]\n",
      "\tOrdinal0 [0x00DF11FC+2232828]\n",
      "\tBaseThreadInitThunk [0x7677FA29+25]\n",
      "\tRtlGetAppContainerNamedObjectPath [0x77937A7E+286]\n",
      "\tRtlGetAppContainerNamedObjectPath [0x77937A4E+238]\n",
      "\n",
      "<ipython-input-92-b2b870d310eb>:8: DeprecationWarning: find_element_by_* commands are deprecated. Please use find_element() instead\n",
      "  driver.find_element_by_css_selector('.ms-BasePicker-input.pickerInput_cc9894a7').send_keys(email2)\n",
      "<ipython-input-92-b2b870d310eb>:9: DeprecationWarning: find_element_by_* commands are deprecated. Please use find_element() instead\n",
      "  driver.find_element_by_css_selector('.dbf5IpsJrfoz_ON4IquS.UmiifhUhtkMCZXz_orZn.tEMfEuz5sUSZRe4fMlov.sBuglPqhiioJ8xqAEshn.FiU6TM0L6ioqM3Aih52j').send_keys(content)\n",
      "<ipython-input-92-b2b870d310eb>:10: DeprecationWarning: find_element_by_* commands are deprecated. Please use find_element() instead\n",
      "  driver.find_element_by_xpath(\"// input[@placeholder='Add a subject']\").send_keys('Office Hour')\n",
      "<ipython-input-92-b2b870d310eb>:12: DeprecationWarning: find_element_by_* commands are deprecated. Please use find_element() instead\n",
      "  driver.find_element_by_xpath(\"// span[contains(text(),\\'Send')]\").click()\n"
     ]
    },
    {
     "ename": "KeyboardInterrupt",
     "evalue": "",
     "output_type": "error",
     "traceback": [
      "\u001b[1;31m---------------------------------------------------------------------------\u001b[0m",
      "\u001b[1;31mKeyboardInterrupt\u001b[0m                         Traceback (most recent call last)",
      "\u001b[1;32m<ipython-input-93-ccaf7e01db18>\u001b[0m in \u001b[0;36m<module>\u001b[1;34m\u001b[0m\n\u001b[1;32m----> 1\u001b[1;33m \u001b[0mdiu\u001b[0m\u001b[1;33m(\u001b[0m\u001b[1;33m)\u001b[0m\u001b[1;33m\u001b[0m\u001b[1;33m\u001b[0m\u001b[0m\n\u001b[0m",
      "\u001b[1;32m<ipython-input-92-b2b870d310eb>\u001b[0m in \u001b[0;36mdiu\u001b[1;34m()\u001b[0m\n\u001b[0;32m      8\u001b[0m             \u001b[0mdriver\u001b[0m\u001b[1;33m.\u001b[0m\u001b[0mfind_element_by_css_selector\u001b[0m\u001b[1;33m(\u001b[0m\u001b[1;34m'.ms-BasePicker-input.pickerInput_cc9894a7'\u001b[0m\u001b[1;33m)\u001b[0m\u001b[1;33m.\u001b[0m\u001b[0msend_keys\u001b[0m\u001b[1;33m(\u001b[0m\u001b[0memail2\u001b[0m\u001b[1;33m)\u001b[0m\u001b[1;33m\u001b[0m\u001b[1;33m\u001b[0m\u001b[0m\n\u001b[0;32m      9\u001b[0m             \u001b[0mdriver\u001b[0m\u001b[1;33m.\u001b[0m\u001b[0mfind_element_by_css_selector\u001b[0m\u001b[1;33m(\u001b[0m\u001b[1;34m'.dbf5IpsJrfoz_ON4IquS.UmiifhUhtkMCZXz_orZn.tEMfEuz5sUSZRe4fMlov.sBuglPqhiioJ8xqAEshn.FiU6TM0L6ioqM3Aih52j'\u001b[0m\u001b[1;33m)\u001b[0m\u001b[1;33m.\u001b[0m\u001b[0msend_keys\u001b[0m\u001b[1;33m(\u001b[0m\u001b[0mcontent\u001b[0m\u001b[1;33m)\u001b[0m\u001b[1;33m\u001b[0m\u001b[1;33m\u001b[0m\u001b[0m\n\u001b[1;32m---> 10\u001b[1;33m             \u001b[0mdriver\u001b[0m\u001b[1;33m.\u001b[0m\u001b[0mfind_element_by_xpath\u001b[0m\u001b[1;33m(\u001b[0m\u001b[1;34m\"// input[@placeholder='Add a subject']\"\u001b[0m\u001b[1;33m)\u001b[0m\u001b[1;33m.\u001b[0m\u001b[0msend_keys\u001b[0m\u001b[1;33m(\u001b[0m\u001b[1;34m'Office Hour'\u001b[0m\u001b[1;33m)\u001b[0m\u001b[1;33m\u001b[0m\u001b[1;33m\u001b[0m\u001b[0m\n\u001b[0m\u001b[0;32m     11\u001b[0m             \u001b[1;31m#driver.find_element_by_css_selector('.ms-Button-label.label-361').click()\u001b[0m\u001b[1;33m\u001b[0m\u001b[1;33m\u001b[0m\u001b[1;33m\u001b[0m\u001b[0m\n\u001b[0;32m     12\u001b[0m             \u001b[0mdriver\u001b[0m\u001b[1;33m.\u001b[0m\u001b[0mfind_element_by_xpath\u001b[0m\u001b[1;33m(\u001b[0m\u001b[1;34m\"// span[contains(text(),\\'Send')]\"\u001b[0m\u001b[1;33m)\u001b[0m\u001b[1;33m.\u001b[0m\u001b[0mclick\u001b[0m\u001b[1;33m(\u001b[0m\u001b[1;33m)\u001b[0m\u001b[1;33m\u001b[0m\u001b[1;33m\u001b[0m\u001b[0m\n",
      "\u001b[1;32m~\\anaconda3\\lib\\site-packages\\selenium\\webdriver\\remote\\webdriver.py\u001b[0m in \u001b[0;36mfind_element_by_xpath\u001b[1;34m(self, xpath)\u001b[0m\n\u001b[0;32m    512\u001b[0m             \u001b[0mstacklevel\u001b[0m\u001b[1;33m=\u001b[0m\u001b[1;36m2\u001b[0m\u001b[1;33m,\u001b[0m\u001b[1;33m\u001b[0m\u001b[1;33m\u001b[0m\u001b[0m\n\u001b[0;32m    513\u001b[0m         )\n\u001b[1;32m--> 514\u001b[1;33m         \u001b[1;32mreturn\u001b[0m \u001b[0mself\u001b[0m\u001b[1;33m.\u001b[0m\u001b[0mfind_element\u001b[0m\u001b[1;33m(\u001b[0m\u001b[0mby\u001b[0m\u001b[1;33m=\u001b[0m\u001b[0mBy\u001b[0m\u001b[1;33m.\u001b[0m\u001b[0mXPATH\u001b[0m\u001b[1;33m,\u001b[0m \u001b[0mvalue\u001b[0m\u001b[1;33m=\u001b[0m\u001b[0mxpath\u001b[0m\u001b[1;33m)\u001b[0m\u001b[1;33m\u001b[0m\u001b[1;33m\u001b[0m\u001b[0m\n\u001b[0m\u001b[0;32m    515\u001b[0m \u001b[1;33m\u001b[0m\u001b[0m\n\u001b[0;32m    516\u001b[0m     \u001b[1;32mdef\u001b[0m \u001b[0mfind_elements_by_xpath\u001b[0m\u001b[1;33m(\u001b[0m\u001b[0mself\u001b[0m\u001b[1;33m,\u001b[0m \u001b[0mxpath\u001b[0m\u001b[1;33m)\u001b[0m \u001b[1;33m->\u001b[0m \u001b[0mWebElement\u001b[0m\u001b[1;33m:\u001b[0m\u001b[1;33m\u001b[0m\u001b[1;33m\u001b[0m\u001b[0m\n",
      "\u001b[1;32m~\\anaconda3\\lib\\site-packages\\selenium\\webdriver\\remote\\webdriver.py\u001b[0m in \u001b[0;36mfind_element\u001b[1;34m(self, by, value)\u001b[0m\n\u001b[0;32m   1236\u001b[0m             \u001b[0mvalue\u001b[0m \u001b[1;33m=\u001b[0m \u001b[1;34m'[name=\"%s\"]'\u001b[0m \u001b[1;33m%\u001b[0m \u001b[0mvalue\u001b[0m\u001b[1;33m\u001b[0m\u001b[1;33m\u001b[0m\u001b[0m\n\u001b[0;32m   1237\u001b[0m \u001b[1;33m\u001b[0m\u001b[0m\n\u001b[1;32m-> 1238\u001b[1;33m         return self.execute(Command.FIND_ELEMENT, {\n\u001b[0m\u001b[0;32m   1239\u001b[0m             \u001b[1;34m'using'\u001b[0m\u001b[1;33m:\u001b[0m \u001b[0mby\u001b[0m\u001b[1;33m,\u001b[0m\u001b[1;33m\u001b[0m\u001b[1;33m\u001b[0m\u001b[0m\n\u001b[0;32m   1240\u001b[0m             'value': value})['value']\n",
      "\u001b[1;32m~\\anaconda3\\lib\\site-packages\\selenium\\webdriver\\remote\\webdriver.py\u001b[0m in \u001b[0;36mexecute\u001b[1;34m(self, driver_command, params)\u001b[0m\n\u001b[0;32m    414\u001b[0m \u001b[1;33m\u001b[0m\u001b[0m\n\u001b[0;32m    415\u001b[0m         \u001b[0mparams\u001b[0m \u001b[1;33m=\u001b[0m \u001b[0mself\u001b[0m\u001b[1;33m.\u001b[0m\u001b[0m_wrap_value\u001b[0m\u001b[1;33m(\u001b[0m\u001b[0mparams\u001b[0m\u001b[1;33m)\u001b[0m\u001b[1;33m\u001b[0m\u001b[1;33m\u001b[0m\u001b[0m\n\u001b[1;32m--> 416\u001b[1;33m         \u001b[0mresponse\u001b[0m \u001b[1;33m=\u001b[0m \u001b[0mself\u001b[0m\u001b[1;33m.\u001b[0m\u001b[0mcommand_executor\u001b[0m\u001b[1;33m.\u001b[0m\u001b[0mexecute\u001b[0m\u001b[1;33m(\u001b[0m\u001b[0mdriver_command\u001b[0m\u001b[1;33m,\u001b[0m \u001b[0mparams\u001b[0m\u001b[1;33m)\u001b[0m\u001b[1;33m\u001b[0m\u001b[1;33m\u001b[0m\u001b[0m\n\u001b[0m\u001b[0;32m    417\u001b[0m         \u001b[1;32mif\u001b[0m \u001b[0mresponse\u001b[0m\u001b[1;33m:\u001b[0m\u001b[1;33m\u001b[0m\u001b[1;33m\u001b[0m\u001b[0m\n\u001b[0;32m    418\u001b[0m             \u001b[0mself\u001b[0m\u001b[1;33m.\u001b[0m\u001b[0merror_handler\u001b[0m\u001b[1;33m.\u001b[0m\u001b[0mcheck_response\u001b[0m\u001b[1;33m(\u001b[0m\u001b[0mresponse\u001b[0m\u001b[1;33m)\u001b[0m\u001b[1;33m\u001b[0m\u001b[1;33m\u001b[0m\u001b[0m\n",
      "\u001b[1;32m~\\anaconda3\\lib\\site-packages\\selenium\\webdriver\\remote\\remote_connection.py\u001b[0m in \u001b[0;36mexecute\u001b[1;34m(self, command, params)\u001b[0m\n\u001b[0;32m    396\u001b[0m         \u001b[0mdata\u001b[0m \u001b[1;33m=\u001b[0m \u001b[0mutils\u001b[0m\u001b[1;33m.\u001b[0m\u001b[0mdump_json\u001b[0m\u001b[1;33m(\u001b[0m\u001b[0mparams\u001b[0m\u001b[1;33m)\u001b[0m\u001b[1;33m\u001b[0m\u001b[1;33m\u001b[0m\u001b[0m\n\u001b[0;32m    397\u001b[0m         \u001b[0murl\u001b[0m \u001b[1;33m=\u001b[0m \u001b[1;34mf\"{self._url}{path}\"\u001b[0m\u001b[1;33m\u001b[0m\u001b[1;33m\u001b[0m\u001b[0m\n\u001b[1;32m--> 398\u001b[1;33m         \u001b[1;32mreturn\u001b[0m \u001b[0mself\u001b[0m\u001b[1;33m.\u001b[0m\u001b[0m_request\u001b[0m\u001b[1;33m(\u001b[0m\u001b[0mcommand_info\u001b[0m\u001b[1;33m[\u001b[0m\u001b[1;36m0\u001b[0m\u001b[1;33m]\u001b[0m\u001b[1;33m,\u001b[0m \u001b[0murl\u001b[0m\u001b[1;33m,\u001b[0m \u001b[0mbody\u001b[0m\u001b[1;33m=\u001b[0m\u001b[0mdata\u001b[0m\u001b[1;33m)\u001b[0m\u001b[1;33m\u001b[0m\u001b[1;33m\u001b[0m\u001b[0m\n\u001b[0m\u001b[0;32m    399\u001b[0m \u001b[1;33m\u001b[0m\u001b[0m\n\u001b[0;32m    400\u001b[0m     \u001b[1;32mdef\u001b[0m \u001b[0m_request\u001b[0m\u001b[1;33m(\u001b[0m\u001b[0mself\u001b[0m\u001b[1;33m,\u001b[0m \u001b[0mmethod\u001b[0m\u001b[1;33m,\u001b[0m \u001b[0murl\u001b[0m\u001b[1;33m,\u001b[0m \u001b[0mbody\u001b[0m\u001b[1;33m=\u001b[0m\u001b[1;32mNone\u001b[0m\u001b[1;33m)\u001b[0m\u001b[1;33m:\u001b[0m\u001b[1;33m\u001b[0m\u001b[1;33m\u001b[0m\u001b[0m\n",
      "\u001b[1;32m~\\anaconda3\\lib\\site-packages\\selenium\\webdriver\\remote\\remote_connection.py\u001b[0m in \u001b[0;36m_request\u001b[1;34m(self, method, url, body)\u001b[0m\n\u001b[0;32m    418\u001b[0m \u001b[1;33m\u001b[0m\u001b[0m\n\u001b[0;32m    419\u001b[0m         \u001b[1;32mif\u001b[0m \u001b[0mself\u001b[0m\u001b[1;33m.\u001b[0m\u001b[0mkeep_alive\u001b[0m\u001b[1;33m:\u001b[0m\u001b[1;33m\u001b[0m\u001b[1;33m\u001b[0m\u001b[0m\n\u001b[1;32m--> 420\u001b[1;33m             \u001b[0mresp\u001b[0m \u001b[1;33m=\u001b[0m \u001b[0mself\u001b[0m\u001b[1;33m.\u001b[0m\u001b[0m_conn\u001b[0m\u001b[1;33m.\u001b[0m\u001b[0mrequest\u001b[0m\u001b[1;33m(\u001b[0m\u001b[0mmethod\u001b[0m\u001b[1;33m,\u001b[0m \u001b[0murl\u001b[0m\u001b[1;33m,\u001b[0m \u001b[0mbody\u001b[0m\u001b[1;33m=\u001b[0m\u001b[0mbody\u001b[0m\u001b[1;33m,\u001b[0m \u001b[0mheaders\u001b[0m\u001b[1;33m=\u001b[0m\u001b[0mheaders\u001b[0m\u001b[1;33m)\u001b[0m\u001b[1;33m\u001b[0m\u001b[1;33m\u001b[0m\u001b[0m\n\u001b[0m\u001b[0;32m    421\u001b[0m             \u001b[0mstatuscode\u001b[0m \u001b[1;33m=\u001b[0m \u001b[0mresp\u001b[0m\u001b[1;33m.\u001b[0m\u001b[0mstatus\u001b[0m\u001b[1;33m\u001b[0m\u001b[1;33m\u001b[0m\u001b[0m\n\u001b[0;32m    422\u001b[0m         \u001b[1;32melse\u001b[0m\u001b[1;33m:\u001b[0m\u001b[1;33m\u001b[0m\u001b[1;33m\u001b[0m\u001b[0m\n",
      "\u001b[1;32m~\\anaconda3\\lib\\site-packages\\urllib3\\request.py\u001b[0m in \u001b[0;36mrequest\u001b[1;34m(self, method, url, fields, headers, **urlopen_kw)\u001b[0m\n\u001b[0;32m     76\u001b[0m             )\n\u001b[0;32m     77\u001b[0m         \u001b[1;32melse\u001b[0m\u001b[1;33m:\u001b[0m\u001b[1;33m\u001b[0m\u001b[1;33m\u001b[0m\u001b[0m\n\u001b[1;32m---> 78\u001b[1;33m             return self.request_encode_body(\n\u001b[0m\u001b[0;32m     79\u001b[0m                 \u001b[0mmethod\u001b[0m\u001b[1;33m,\u001b[0m \u001b[0murl\u001b[0m\u001b[1;33m,\u001b[0m \u001b[0mfields\u001b[0m\u001b[1;33m=\u001b[0m\u001b[0mfields\u001b[0m\u001b[1;33m,\u001b[0m \u001b[0mheaders\u001b[0m\u001b[1;33m=\u001b[0m\u001b[0mheaders\u001b[0m\u001b[1;33m,\u001b[0m \u001b[1;33m**\u001b[0m\u001b[0murlopen_kw\u001b[0m\u001b[1;33m\u001b[0m\u001b[1;33m\u001b[0m\u001b[0m\n\u001b[0;32m     80\u001b[0m             )\n",
      "\u001b[1;32m~\\anaconda3\\lib\\site-packages\\urllib3\\request.py\u001b[0m in \u001b[0;36mrequest_encode_body\u001b[1;34m(self, method, url, fields, headers, encode_multipart, multipart_boundary, **urlopen_kw)\u001b[0m\n\u001b[0;32m    168\u001b[0m         \u001b[0mextra_kw\u001b[0m\u001b[1;33m.\u001b[0m\u001b[0mupdate\u001b[0m\u001b[1;33m(\u001b[0m\u001b[0murlopen_kw\u001b[0m\u001b[1;33m)\u001b[0m\u001b[1;33m\u001b[0m\u001b[1;33m\u001b[0m\u001b[0m\n\u001b[0;32m    169\u001b[0m \u001b[1;33m\u001b[0m\u001b[0m\n\u001b[1;32m--> 170\u001b[1;33m         \u001b[1;32mreturn\u001b[0m \u001b[0mself\u001b[0m\u001b[1;33m.\u001b[0m\u001b[0murlopen\u001b[0m\u001b[1;33m(\u001b[0m\u001b[0mmethod\u001b[0m\u001b[1;33m,\u001b[0m \u001b[0murl\u001b[0m\u001b[1;33m,\u001b[0m \u001b[1;33m**\u001b[0m\u001b[0mextra_kw\u001b[0m\u001b[1;33m)\u001b[0m\u001b[1;33m\u001b[0m\u001b[1;33m\u001b[0m\u001b[0m\n\u001b[0m",
      "\u001b[1;32m~\\anaconda3\\lib\\site-packages\\urllib3\\poolmanager.py\u001b[0m in \u001b[0;36murlopen\u001b[1;34m(self, method, url, redirect, **kw)\u001b[0m\n\u001b[0;32m    373\u001b[0m             \u001b[0mresponse\u001b[0m \u001b[1;33m=\u001b[0m \u001b[0mconn\u001b[0m\u001b[1;33m.\u001b[0m\u001b[0murlopen\u001b[0m\u001b[1;33m(\u001b[0m\u001b[0mmethod\u001b[0m\u001b[1;33m,\u001b[0m \u001b[0murl\u001b[0m\u001b[1;33m,\u001b[0m \u001b[1;33m**\u001b[0m\u001b[0mkw\u001b[0m\u001b[1;33m)\u001b[0m\u001b[1;33m\u001b[0m\u001b[1;33m\u001b[0m\u001b[0m\n\u001b[0;32m    374\u001b[0m         \u001b[1;32melse\u001b[0m\u001b[1;33m:\u001b[0m\u001b[1;33m\u001b[0m\u001b[1;33m\u001b[0m\u001b[0m\n\u001b[1;32m--> 375\u001b[1;33m             \u001b[0mresponse\u001b[0m \u001b[1;33m=\u001b[0m \u001b[0mconn\u001b[0m\u001b[1;33m.\u001b[0m\u001b[0murlopen\u001b[0m\u001b[1;33m(\u001b[0m\u001b[0mmethod\u001b[0m\u001b[1;33m,\u001b[0m \u001b[0mu\u001b[0m\u001b[1;33m.\u001b[0m\u001b[0mrequest_uri\u001b[0m\u001b[1;33m,\u001b[0m \u001b[1;33m**\u001b[0m\u001b[0mkw\u001b[0m\u001b[1;33m)\u001b[0m\u001b[1;33m\u001b[0m\u001b[1;33m\u001b[0m\u001b[0m\n\u001b[0m\u001b[0;32m    376\u001b[0m \u001b[1;33m\u001b[0m\u001b[0m\n\u001b[0;32m    377\u001b[0m         \u001b[0mredirect_location\u001b[0m \u001b[1;33m=\u001b[0m \u001b[0mredirect\u001b[0m \u001b[1;32mand\u001b[0m \u001b[0mresponse\u001b[0m\u001b[1;33m.\u001b[0m\u001b[0mget_redirect_location\u001b[0m\u001b[1;33m(\u001b[0m\u001b[1;33m)\u001b[0m\u001b[1;33m\u001b[0m\u001b[1;33m\u001b[0m\u001b[0m\n",
      "\u001b[1;32m~\\anaconda3\\lib\\site-packages\\urllib3\\connectionpool.py\u001b[0m in \u001b[0;36murlopen\u001b[1;34m(self, method, url, body, headers, retries, redirect, assert_same_host, timeout, pool_timeout, release_conn, chunked, body_pos, **response_kw)\u001b[0m\n\u001b[0;32m    697\u001b[0m \u001b[1;33m\u001b[0m\u001b[0m\n\u001b[0;32m    698\u001b[0m             \u001b[1;31m# Make the request on the httplib connection object.\u001b[0m\u001b[1;33m\u001b[0m\u001b[1;33m\u001b[0m\u001b[1;33m\u001b[0m\u001b[0m\n\u001b[1;32m--> 699\u001b[1;33m             httplib_response = self._make_request(\n\u001b[0m\u001b[0;32m    700\u001b[0m                 \u001b[0mconn\u001b[0m\u001b[1;33m,\u001b[0m\u001b[1;33m\u001b[0m\u001b[1;33m\u001b[0m\u001b[0m\n\u001b[0;32m    701\u001b[0m                 \u001b[0mmethod\u001b[0m\u001b[1;33m,\u001b[0m\u001b[1;33m\u001b[0m\u001b[1;33m\u001b[0m\u001b[0m\n",
      "\u001b[1;32m~\\anaconda3\\lib\\site-packages\\urllib3\\connectionpool.py\u001b[0m in \u001b[0;36m_make_request\u001b[1;34m(self, conn, method, url, timeout, chunked, **httplib_request_kw)\u001b[0m\n\u001b[0;32m    443\u001b[0m                     \u001b[1;31m# Python 3 (including for exceptions like SystemExit).\u001b[0m\u001b[1;33m\u001b[0m\u001b[1;33m\u001b[0m\u001b[1;33m\u001b[0m\u001b[0m\n\u001b[0;32m    444\u001b[0m                     \u001b[1;31m# Otherwise it looks like a bug in the code.\u001b[0m\u001b[1;33m\u001b[0m\u001b[1;33m\u001b[0m\u001b[1;33m\u001b[0m\u001b[0m\n\u001b[1;32m--> 445\u001b[1;33m                     \u001b[0msix\u001b[0m\u001b[1;33m.\u001b[0m\u001b[0mraise_from\u001b[0m\u001b[1;33m(\u001b[0m\u001b[0me\u001b[0m\u001b[1;33m,\u001b[0m \u001b[1;32mNone\u001b[0m\u001b[1;33m)\u001b[0m\u001b[1;33m\u001b[0m\u001b[1;33m\u001b[0m\u001b[0m\n\u001b[0m\u001b[0;32m    446\u001b[0m         \u001b[1;32mexcept\u001b[0m \u001b[1;33m(\u001b[0m\u001b[0mSocketTimeout\u001b[0m\u001b[1;33m,\u001b[0m \u001b[0mBaseSSLError\u001b[0m\u001b[1;33m,\u001b[0m \u001b[0mSocketError\u001b[0m\u001b[1;33m)\u001b[0m \u001b[1;32mas\u001b[0m \u001b[0me\u001b[0m\u001b[1;33m:\u001b[0m\u001b[1;33m\u001b[0m\u001b[1;33m\u001b[0m\u001b[0m\n\u001b[0;32m    447\u001b[0m             \u001b[0mself\u001b[0m\u001b[1;33m.\u001b[0m\u001b[0m_raise_timeout\u001b[0m\u001b[1;33m(\u001b[0m\u001b[0merr\u001b[0m\u001b[1;33m=\u001b[0m\u001b[0me\u001b[0m\u001b[1;33m,\u001b[0m \u001b[0murl\u001b[0m\u001b[1;33m=\u001b[0m\u001b[0murl\u001b[0m\u001b[1;33m,\u001b[0m \u001b[0mtimeout_value\u001b[0m\u001b[1;33m=\u001b[0m\u001b[0mread_timeout\u001b[0m\u001b[1;33m)\u001b[0m\u001b[1;33m\u001b[0m\u001b[1;33m\u001b[0m\u001b[0m\n",
      "\u001b[1;32m~\\anaconda3\\lib\\site-packages\\urllib3\\packages\\six.py\u001b[0m in \u001b[0;36mraise_from\u001b[1;34m(value, from_value)\u001b[0m\n",
      "\u001b[1;32m~\\anaconda3\\lib\\site-packages\\urllib3\\connectionpool.py\u001b[0m in \u001b[0;36m_make_request\u001b[1;34m(self, conn, method, url, timeout, chunked, **httplib_request_kw)\u001b[0m\n\u001b[0;32m    438\u001b[0m                 \u001b[1;31m# Python 3\u001b[0m\u001b[1;33m\u001b[0m\u001b[1;33m\u001b[0m\u001b[1;33m\u001b[0m\u001b[0m\n\u001b[0;32m    439\u001b[0m                 \u001b[1;32mtry\u001b[0m\u001b[1;33m:\u001b[0m\u001b[1;33m\u001b[0m\u001b[1;33m\u001b[0m\u001b[0m\n\u001b[1;32m--> 440\u001b[1;33m                     \u001b[0mhttplib_response\u001b[0m \u001b[1;33m=\u001b[0m \u001b[0mconn\u001b[0m\u001b[1;33m.\u001b[0m\u001b[0mgetresponse\u001b[0m\u001b[1;33m(\u001b[0m\u001b[1;33m)\u001b[0m\u001b[1;33m\u001b[0m\u001b[1;33m\u001b[0m\u001b[0m\n\u001b[0m\u001b[0;32m    441\u001b[0m                 \u001b[1;32mexcept\u001b[0m \u001b[0mBaseException\u001b[0m \u001b[1;32mas\u001b[0m \u001b[0me\u001b[0m\u001b[1;33m:\u001b[0m\u001b[1;33m\u001b[0m\u001b[1;33m\u001b[0m\u001b[0m\n\u001b[0;32m    442\u001b[0m                     \u001b[1;31m# Remove the TypeError from the exception chain in\u001b[0m\u001b[1;33m\u001b[0m\u001b[1;33m\u001b[0m\u001b[1;33m\u001b[0m\u001b[0m\n",
      "\u001b[1;32m~\\anaconda3\\lib\\http\\client.py\u001b[0m in \u001b[0;36mgetresponse\u001b[1;34m(self)\u001b[0m\n\u001b[0;32m   1345\u001b[0m         \u001b[1;32mtry\u001b[0m\u001b[1;33m:\u001b[0m\u001b[1;33m\u001b[0m\u001b[1;33m\u001b[0m\u001b[0m\n\u001b[0;32m   1346\u001b[0m             \u001b[1;32mtry\u001b[0m\u001b[1;33m:\u001b[0m\u001b[1;33m\u001b[0m\u001b[1;33m\u001b[0m\u001b[0m\n\u001b[1;32m-> 1347\u001b[1;33m                 \u001b[0mresponse\u001b[0m\u001b[1;33m.\u001b[0m\u001b[0mbegin\u001b[0m\u001b[1;33m(\u001b[0m\u001b[1;33m)\u001b[0m\u001b[1;33m\u001b[0m\u001b[1;33m\u001b[0m\u001b[0m\n\u001b[0m\u001b[0;32m   1348\u001b[0m             \u001b[1;32mexcept\u001b[0m \u001b[0mConnectionError\u001b[0m\u001b[1;33m:\u001b[0m\u001b[1;33m\u001b[0m\u001b[1;33m\u001b[0m\u001b[0m\n\u001b[0;32m   1349\u001b[0m                 \u001b[0mself\u001b[0m\u001b[1;33m.\u001b[0m\u001b[0mclose\u001b[0m\u001b[1;33m(\u001b[0m\u001b[1;33m)\u001b[0m\u001b[1;33m\u001b[0m\u001b[1;33m\u001b[0m\u001b[0m\n",
      "\u001b[1;32m~\\anaconda3\\lib\\http\\client.py\u001b[0m in \u001b[0;36mbegin\u001b[1;34m(self)\u001b[0m\n\u001b[0;32m    305\u001b[0m         \u001b[1;31m# read until we get a non-100 response\u001b[0m\u001b[1;33m\u001b[0m\u001b[1;33m\u001b[0m\u001b[1;33m\u001b[0m\u001b[0m\n\u001b[0;32m    306\u001b[0m         \u001b[1;32mwhile\u001b[0m \u001b[1;32mTrue\u001b[0m\u001b[1;33m:\u001b[0m\u001b[1;33m\u001b[0m\u001b[1;33m\u001b[0m\u001b[0m\n\u001b[1;32m--> 307\u001b[1;33m             \u001b[0mversion\u001b[0m\u001b[1;33m,\u001b[0m \u001b[0mstatus\u001b[0m\u001b[1;33m,\u001b[0m \u001b[0mreason\u001b[0m \u001b[1;33m=\u001b[0m \u001b[0mself\u001b[0m\u001b[1;33m.\u001b[0m\u001b[0m_read_status\u001b[0m\u001b[1;33m(\u001b[0m\u001b[1;33m)\u001b[0m\u001b[1;33m\u001b[0m\u001b[1;33m\u001b[0m\u001b[0m\n\u001b[0m\u001b[0;32m    308\u001b[0m             \u001b[1;32mif\u001b[0m \u001b[0mstatus\u001b[0m \u001b[1;33m!=\u001b[0m \u001b[0mCONTINUE\u001b[0m\u001b[1;33m:\u001b[0m\u001b[1;33m\u001b[0m\u001b[1;33m\u001b[0m\u001b[0m\n\u001b[0;32m    309\u001b[0m                 \u001b[1;32mbreak\u001b[0m\u001b[1;33m\u001b[0m\u001b[1;33m\u001b[0m\u001b[0m\n",
      "\u001b[1;32m~\\anaconda3\\lib\\http\\client.py\u001b[0m in \u001b[0;36m_read_status\u001b[1;34m(self)\u001b[0m\n\u001b[0;32m    266\u001b[0m \u001b[1;33m\u001b[0m\u001b[0m\n\u001b[0;32m    267\u001b[0m     \u001b[1;32mdef\u001b[0m \u001b[0m_read_status\u001b[0m\u001b[1;33m(\u001b[0m\u001b[0mself\u001b[0m\u001b[1;33m)\u001b[0m\u001b[1;33m:\u001b[0m\u001b[1;33m\u001b[0m\u001b[1;33m\u001b[0m\u001b[0m\n\u001b[1;32m--> 268\u001b[1;33m         \u001b[0mline\u001b[0m \u001b[1;33m=\u001b[0m \u001b[0mstr\u001b[0m\u001b[1;33m(\u001b[0m\u001b[0mself\u001b[0m\u001b[1;33m.\u001b[0m\u001b[0mfp\u001b[0m\u001b[1;33m.\u001b[0m\u001b[0mreadline\u001b[0m\u001b[1;33m(\u001b[0m\u001b[0m_MAXLINE\u001b[0m \u001b[1;33m+\u001b[0m \u001b[1;36m1\u001b[0m\u001b[1;33m)\u001b[0m\u001b[1;33m,\u001b[0m \u001b[1;34m\"iso-8859-1\"\u001b[0m\u001b[1;33m)\u001b[0m\u001b[1;33m\u001b[0m\u001b[1;33m\u001b[0m\u001b[0m\n\u001b[0m\u001b[0;32m    269\u001b[0m         \u001b[1;32mif\u001b[0m \u001b[0mlen\u001b[0m\u001b[1;33m(\u001b[0m\u001b[0mline\u001b[0m\u001b[1;33m)\u001b[0m \u001b[1;33m>\u001b[0m \u001b[0m_MAXLINE\u001b[0m\u001b[1;33m:\u001b[0m\u001b[1;33m\u001b[0m\u001b[1;33m\u001b[0m\u001b[0m\n\u001b[0;32m    270\u001b[0m             \u001b[1;32mraise\u001b[0m \u001b[0mLineTooLong\u001b[0m\u001b[1;33m(\u001b[0m\u001b[1;34m\"status line\"\u001b[0m\u001b[1;33m)\u001b[0m\u001b[1;33m\u001b[0m\u001b[1;33m\u001b[0m\u001b[0m\n",
      "\u001b[1;32m~\\anaconda3\\lib\\socket.py\u001b[0m in \u001b[0;36mreadinto\u001b[1;34m(self, b)\u001b[0m\n\u001b[0;32m    667\u001b[0m         \u001b[1;32mwhile\u001b[0m \u001b[1;32mTrue\u001b[0m\u001b[1;33m:\u001b[0m\u001b[1;33m\u001b[0m\u001b[1;33m\u001b[0m\u001b[0m\n\u001b[0;32m    668\u001b[0m             \u001b[1;32mtry\u001b[0m\u001b[1;33m:\u001b[0m\u001b[1;33m\u001b[0m\u001b[1;33m\u001b[0m\u001b[0m\n\u001b[1;32m--> 669\u001b[1;33m                 \u001b[1;32mreturn\u001b[0m \u001b[0mself\u001b[0m\u001b[1;33m.\u001b[0m\u001b[0m_sock\u001b[0m\u001b[1;33m.\u001b[0m\u001b[0mrecv_into\u001b[0m\u001b[1;33m(\u001b[0m\u001b[0mb\u001b[0m\u001b[1;33m)\u001b[0m\u001b[1;33m\u001b[0m\u001b[1;33m\u001b[0m\u001b[0m\n\u001b[0m\u001b[0;32m    670\u001b[0m             \u001b[1;32mexcept\u001b[0m \u001b[0mtimeout\u001b[0m\u001b[1;33m:\u001b[0m\u001b[1;33m\u001b[0m\u001b[1;33m\u001b[0m\u001b[0m\n\u001b[0;32m    671\u001b[0m                 \u001b[0mself\u001b[0m\u001b[1;33m.\u001b[0m\u001b[0m_timeout_occurred\u001b[0m \u001b[1;33m=\u001b[0m \u001b[1;32mTrue\u001b[0m\u001b[1;33m\u001b[0m\u001b[1;33m\u001b[0m\u001b[0m\n",
      "\u001b[1;31mKeyboardInterrupt\u001b[0m: "
     ]
    }
   ],
   "source": [
    "diu()"
   ]
  },
  {
   "cell_type": "code",
   "execution_count": 10,
   "id": "354f2b1a",
   "metadata": {},
   "outputs": [],
   "source": [
    "new_email.click()"
   ]
  },
  {
   "cell_type": "code",
   "execution_count": 62,
   "id": "a7623338",
   "metadata": {},
   "outputs": [],
   "source": [
    "email1='bychang@connect.ust.hk'\n",
    "email2='bychang@cse.ust.hk'\n",
    "email3='changby@cse.ust.hk'"
   ]
  },
  {
   "cell_type": "code",
   "execution_count": null,
   "id": "137804f4",
   "metadata": {},
   "outputs": [],
   "source": [
    "<input autocapitalize=\"off\" autocomplete=\"off\" aria-autocomplete=\"both\" aria-label=\"To\" class=\"ms-BasePicker-input pickerInput_cc9894a7\" aria-expanded=\"false\" aria-haspopup=\"true\" role=\"combobox\" data-lpignore=\"true\" value=\"\" tabindex=\"-1\" style=\"font-family: inherit;\">"
   ]
  },
  {
   "cell_type": "code",
   "execution_count": null,
   "id": "b7249bfd",
   "metadata": {},
   "outputs": [],
   "source": [
    "<input autocapitalize=\"off\" autocomplete=\"off\" aria-autocomplete=\"both\" aria-label=\"To\" class=\"ms-BasePicker-input pickerInput_cc9894a7\" aria-expanded=\"false\" aria-haspopup=\"true\" role=\"combobox\" data-lpignore=\"true\" value=\"\" tabindex=\"0\" style=\"font-family: inherit;\">"
   ]
  },
  {
   "cell_type": "code",
   "execution_count": 13,
   "id": "f0fda5ea",
   "metadata": {},
   "outputs": [
    {
     "name": "stderr",
     "output_type": "stream",
     "text": [
      "<ipython-input-13-520f3148ef1a>:1: DeprecationWarning: find_element_by_* commands are deprecated. Please use find_element() instead\n",
      "  to=driver.find_element_by_css_selector('.ms-BasePicker-input.pickerInput_cc9894a7').send_keys(email1)\n"
     ]
    }
   ],
   "source": [
    "to=driver.find_element_by_css_selector('.ms-BasePicker-input.pickerInput_cc9894a7').send_keys(email1)"
   ]
  },
  {
   "cell_type": "code",
   "execution_count": null,
   "id": "f5026b2c",
   "metadata": {},
   "outputs": [],
   "source": []
  },
  {
   "cell_type": "code",
   "execution_count": 16,
   "id": "4831901a",
   "metadata": {},
   "outputs": [
    {
     "name": "stderr",
     "output_type": "stream",
     "text": [
      "<ipython-input-16-8754d5bc0174>:1: DeprecationWarning: find_element_by_* commands are deprecated. Please use find_element() instead\n",
      "  to=driver.find_element_by_css_selector('.ms-BasePicker-input.pickerInput_cc9894a7').send_keys(email2)\n"
     ]
    }
   ],
   "source": [
    "to=driver.find_element_by_css_selector('.ms-BasePicker-input.pickerInput_cc9894a7').send_keys(email2)"
   ]
  },
  {
   "cell_type": "code",
   "execution_count": 17,
   "id": "e640e0eb",
   "metadata": {},
   "outputs": [
    {
     "ename": "AttributeError",
     "evalue": "'NoneType' object has no attribute 'submit'",
     "output_type": "error",
     "traceback": [
      "\u001b[1;31m---------------------------------------------------------------------------\u001b[0m",
      "\u001b[1;31mAttributeError\u001b[0m                            Traceback (most recent call last)",
      "\u001b[1;32m<ipython-input-17-97fea3369a51>\u001b[0m in \u001b[0;36m<module>\u001b[1;34m\u001b[0m\n\u001b[1;32m----> 1\u001b[1;33m \u001b[0mto\u001b[0m\u001b[1;33m.\u001b[0m\u001b[0msubmit\u001b[0m\u001b[1;33m(\u001b[0m\u001b[1;33m)\u001b[0m\u001b[1;33m\u001b[0m\u001b[1;33m\u001b[0m\u001b[0m\n\u001b[0m",
      "\u001b[1;31mAttributeError\u001b[0m: 'NoneType' object has no attribute 'submit'"
     ]
    }
   ],
   "source": [
    "to.submit()"
   ]
  },
  {
   "cell_type": "code",
   "execution_count": null,
   "id": "75df824e",
   "metadata": {},
   "outputs": [],
   "source": [
    "<div tabindex=\"0\" dir=\"ltr\" class=\"dbf5IpsJrfoz_ON4IquS UmiifhUhtkMCZXz_orZn tEMfEuz5sUSZRe4fMlov sBuglPqhiioJ8xqAEshn FiU6TM0L6ioqM3Aih52j\" role=\"textbox\" aria-multiline=\"true\" textprediction=\"false\" aria-label=\"Message body\" spellcheck=\"false\" contenteditable=\"true\" style=\"user-select: text; color: rgb(0, 0, 0); background-color: rgb(255, 255, 255);\"><div style=\"font-family: Calibri, Arial, Helvetica, sans-serif; font-size: 12pt; color: rgb(0, 0, 0);\"><br></div></div>"
   ]
  },
  {
   "cell_type": "code",
   "execution_count": 24,
   "id": "10534347",
   "metadata": {},
   "outputs": [],
   "source": []
  },
  {
   "cell_type": "code",
   "execution_count": 33,
   "id": "1966adad",
   "metadata": {},
   "outputs": [
    {
     "name": "stdout",
     "output_type": "stream",
     "text": [
      "Dear FULL-TIME TA,\n",
      "May I know will you be available for an Office Hour? Since the holiday will start from tmr and there will be no time left to ask questions before submitting lab6.\n",
      "I came to your OH because the waiting list will be shorter than others and it was only 2 students including me, I do expect a warning If it takes this long for the previous student, I could have gone to another OH, and will not waste time and lose an opportunity to ask questions, and now I have been waiting for an hour but the OH ends without any warning.\n",
      "If you got opinions on me, please keep them to yourself, I DO NOT CARE,(if not then please ignore this line)  and I do hope that there will be no differential treatment in the teaching.\n",
      "Since I have spent an hour waiting in your OH without getting the chance to ask nor a warning about the sudden closure of the meeting so, please reply to this email asap, if you cannot decide whether you want to give me office hours then please just reply a simple 'I will reply to your email later', or I will start to suspect you got some opinions on me so avoid giving me office hours or replying to my emails.\n",
      "PS my computer keyboard sometimes goes wrong so maybe will send email multiple times. I didn't mean it.\n",
      "Regards\n"
     ]
    }
   ],
   "source": [
    "print(content)"
   ]
  },
  {
   "cell_type": "code",
   "execution_count": 34,
   "id": "9069edc7",
   "metadata": {},
   "outputs": [
    {
     "name": "stderr",
     "output_type": "stream",
     "text": [
      "<ipython-input-34-40b93744c30e>:1: DeprecationWarning: find_element_by_* commands are deprecated. Please use find_element() instead\n",
      "  driver.find_element_by_css_selector('.dbf5IpsJrfoz_ON4IquS.UmiifhUhtkMCZXz_orZn.tEMfEuz5sUSZRe4fMlov.sBuglPqhiioJ8xqAEshn.FiU6TM0L6ioqM3Aih52j').send_keys(content)\n"
     ]
    }
   ],
   "source": [
    "driver.find_element_by_css_selector('.dbf5IpsJrfoz_ON4IquS.UmiifhUhtkMCZXz_orZn.tEMfEuz5sUSZRe4fMlov.sBuglPqhiioJ8xqAEshn.FiU6TM0L6ioqM3Aih52j').send_keys(content)"
   ]
  },
  {
   "cell_type": "code",
   "execution_count": null,
   "id": "37a5bb28",
   "metadata": {},
   "outputs": [],
   "source": [
    "<span class=\"ms-Button-label label-387\" id=\"id__1756\">Send</span>"
   ]
  },
  {
   "cell_type": "code",
   "execution_count": 35,
   "id": "2269ff8f",
   "metadata": {},
   "outputs": [],
   "source": [
    "driver.find_element(By.ID,'id__1756').click()"
   ]
  },
  {
   "cell_type": "code",
   "execution_count": null,
   "id": "6bddb0e8",
   "metadata": {},
   "outputs": [],
   "source": [
    "<input type=\"text\" id=\"TextField6371\" class=\"ms-TextField-field field-377\" maxlength=\"255\" autocomplete=\"off\" spellcheck=\"true\" placeholder=\"Add a subject\" aria-label=\"Add a subject\" aria-invalid=\"false\" value=\"\">"
   ]
  },
  {
   "cell_type": "code",
   "execution_count": null,
   "id": "3a8c7c1c",
   "metadata": {},
   "outputs": [],
   "source": [
    "<span class=\"ms-Button-label label-387\" id=\"id__6776\">Send</span>"
   ]
  },
  {
   "cell_type": "code",
   "execution_count": 36,
   "id": "597e1fd4",
   "metadata": {},
   "outputs": [],
   "source": [
    "driver.find_element(By.ID,'id__6776').click()"
   ]
  }
 ],
 "metadata": {
  "kernelspec": {
   "display_name": "Python 3",
   "language": "python",
   "name": "python3"
  }
 },
 "nbformat": 4,
 "nbformat_minor": 5
}
